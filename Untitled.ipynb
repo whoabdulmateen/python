{
 "cells": [
  {
   "cell_type": "code",
   "execution_count": 1,
   "metadata": {},
   "outputs": [],
   "source": [
    "s = \"hello world\""
   ]
  },
  {
   "cell_type": "markdown",
   "metadata": {},
   "source": [
    "s[-3:4:2]"
   ]
  },
  {
   "cell_type": "code",
   "execution_count": 3,
   "metadata": {},
   "outputs": [],
   "source": [
    "s=\"hello world!\""
   ]
  },
  {
   "cell_type": "code",
   "execution_count": 5,
   "metadata": {},
   "outputs": [
    {
     "data": {
      "text/plain": [
       "' '"
      ]
     },
     "execution_count": 5,
     "metadata": {},
     "output_type": "execute_result"
    }
   ],
   "source": [
    "s[-7:6:2]"
   ]
  },
  {
   "cell_type": "markdown",
   "metadata": {},
   "source": []
  },
  {
   "cell_type": "code",
   "execution_count": 8,
   "metadata": {},
   "outputs": [
    {
     "name": "stdout",
     "output_type": "stream",
     "text": [
      "enter no.5\n",
      "5 ^ 0 = 1\n",
      "5 ^ 1 = 5\n",
      "5 ^ 2 = 25\n",
      "5 ^ 3 = 125\n",
      "5 ^ 4 = 625\n",
      "5 ^ 5 = 3125\n",
      "5 ^ 6 = 15625\n",
      "5 ^ 7 = 78125\n",
      "5 ^ 8 = 390625\n",
      "5 ^ 9 = 1953125\n",
      "5 ^ 10 = 9765625\n"
     ]
    }
   ],
   "source": [
    "x= int(input(\"enter no.\"))\n",
    "if x>0:\n",
    "    for i in range(0,11):\n",
    "        print(f\"{x} ^ {i} = {x**i}\")\n",
    "    \n",
    "\n",
    "    "
   ]
  },
  {
   "cell_type": "code",
   "execution_count": 9,
   "metadata": {},
   "outputs": [
    {
     "name": "stdout",
     "output_type": "stream",
     "text": [
      "hello\n"
     ]
    },
    {
     "ename": "AttributeError",
     "evalue": "'list' object has no attribute 'lower'",
     "output_type": "error",
     "traceback": [
      "\u001b[1;31m---------------------------------------------------------------------------\u001b[0m",
      "\u001b[1;31mAttributeError\u001b[0m                            Traceback (most recent call last)",
      "\u001b[1;32m<ipython-input-9-7ce07d1aa8aa>\u001b[0m in \u001b[0;36m<module>\u001b[1;34m()\u001b[0m\n\u001b[1;32m----> 1\u001b[1;33m \u001b[0minput\u001b[0m\u001b[1;33m(\u001b[0m\u001b[1;33m)\u001b[0m\u001b[1;33m.\u001b[0m\u001b[0msplit\u001b[0m\u001b[1;33m(\u001b[0m\u001b[1;33m)\u001b[0m\u001b[1;33m.\u001b[0m\u001b[0mlower\u001b[0m\u001b[1;33m(\u001b[0m\u001b[1;33m)\u001b[0m\u001b[1;33m\u001b[0m\u001b[0m\n\u001b[0m",
      "\u001b[1;31mAttributeError\u001b[0m: 'list' object has no attribute 'lower'"
     ]
    }
   ],
   "source": [
    "input().split().lower()"
   ]
  },
  {
   "cell_type": "code",
   "execution_count": 2,
   "metadata": {},
   "outputs": [
    {
     "ename": "SyntaxError",
     "evalue": "invalid syntax (<ipython-input-2-1976efe3ea60>, line 4)",
     "output_type": "error",
     "traceback": [
      "\u001b[1;36m  File \u001b[1;32m\"<ipython-input-2-1976efe3ea60>\"\u001b[1;36m, line \u001b[1;32m4\u001b[0m\n\u001b[1;33m    while x==<5:\u001b[0m\n\u001b[1;37m             ^\u001b[0m\n\u001b[1;31mSyntaxError\u001b[0m\u001b[1;31m:\u001b[0m invalid syntax\n"
     ]
    }
   ],
   "source": [
    "from random import randint\n",
    "x=1\n",
    "y= randint(1,100)\n",
    "while x==<5:\n",
    "    while input():\n",
    "        if input()==y:\n",
    "            print  "
   ]
  },
  {
   "cell_type": "code",
   "execution_count": 3,
   "metadata": {},
   "outputs": [
    {
     "name": "stdout",
     "output_type": "stream",
     "text": [
      " Id of hello at iteration 1 1838223079352 \n",
      "id of hi is  1838223079488\n",
      "\n",
      "\n",
      "\n",
      " Id of hello at iteration 2 1838223079352 \n",
      "id of hi is  1838223080440\n",
      "\n",
      "\n",
      "\n",
      " Id of hello at iteration 3 1838223079352 \n",
      "id of hi is  1838223122640\n",
      "\n",
      "\n",
      "\n",
      " Id of hello at iteration 4 1838223079352 \n",
      "id of hi is  1838223123728\n",
      "\n",
      "\n",
      "\n",
      " Id of hello at iteration 5 1838223079352 \n",
      "id of hi is  1838223124816\n",
      "\n",
      "\n",
      "\n"
     ]
    }
   ],
   "source": [
    "def hello():\n",
    "    def hi():\n",
    "        pass\n",
    "    print(\"id of hi is \",id(hi))\n",
    "    hi()\n",
    "c=1\n",
    "while c<=5 :\n",
    "        print(f\" Id of hello at iteration {c} {id(hello)} \")\n",
    "        hello()\n",
    "        print(\"\\n\\n\")\n",
    "        c+=1"
   ]
  },
  {
   "cell_type": "code",
   "execution_count": null,
   "metadata": {},
   "outputs": [],
   "source": []
  }
 ],
 "metadata": {
  "kernelspec": {
   "display_name": "Python 3",
   "language": "python",
   "name": "python3"
  },
  "language_info": {
   "codemirror_mode": {
    "name": "ipython",
    "version": 3
   },
   "file_extension": ".py",
   "mimetype": "text/x-python",
   "name": "python",
   "nbconvert_exporter": "python",
   "pygments_lexer": "ipython3",
   "version": "3.6.5"
  }
 },
 "nbformat": 4,
 "nbformat_minor": 2
}
