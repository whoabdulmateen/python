{
 "cells": [
  {
   "cell_type": "code",
   "execution_count": 27,
   "metadata": {},
   "outputs": [
    {
     "ename": "SyntaxError",
     "evalue": "invalid syntax (<ipython-input-27-82ecd9a707cf>, line 34)",
     "output_type": "error",
     "traceback": [
      "\u001b[1;36m  File \u001b[1;32m\"<ipython-input-27-82ecd9a707cf>\"\u001b[1;36m, line \u001b[1;32m34\u001b[0m\n\u001b[1;33m    if ans==3\u001b[0m\n\u001b[1;37m             ^\u001b[0m\n\u001b[1;31mSyntaxError\u001b[0m\u001b[1;31m:\u001b[0m invalid syntax\n"
     ]
    }
   ],
   "source": [
    "def AMBANK():                                                                     \n",
    "    print (\"Welcome to the Bank\\n\")                                \n",
    "    ask=int(print(\"\"\"To open a new bank account, Press 1\\n\"\"\"+                                    \n",
    "                        \"\"\"To access your existing account & transact press 2\\n\"\"\"))\n",
    "    if ask==1:                                                                       \n",
    "        cus=BankAccount()                               \n",
    "    elif ask==2:                                                                     \n",
    "        cus=ReturnCustomer()                             \n",
    "    else:                                                                               \n",
    "        print (\"You have pressed the wrong key, please try again\")                  \n",
    "        ambank()                                                                      \n",
    "        \n",
    "class BankAccount:\n",
    "    \"\"\"Class for a bank account\"\"\"\n",
    "    type=\"Normal Account\"\n",
    "    def __init__(self):\n",
    "        self.username, self.userpassword, self.balance=filestore.cusaccountcheck()\n",
    "        print (\"Thank you %s, your account is set up and ready to use,\\n a 100 rupees has been credited to your account\" %self.username)\n",
    "        time.sleep(2)\n",
    "        self.userfunctions()\n",
    "\n",
    "\n",
    "\n",
    "    def userfunctions(self):\n",
    "        print(\"\\n\\nTo access any function below, enter the corresponding key\")\n",
    "        ans=int(print(\"\"\"To:\n",
    "check Balance, press 3.\n",
    "deposit cash,  press 4.\n",
    "withdraw cash, press 5.\n",
    "Delete account press 6.\n",
    "exit service,  press 7\\n\n",
    ":\"\"\")),\n",
    "        if ans==3:\n",
    "            self.passcheck()\n",
    "            self.checkbalance()\n",
    "        elif ans==4:\n",
    "            self.passcheck()\n",
    "            self.depositcash()\n",
    "        elif ans==5:\n",
    "            self.passcheck()\n",
    "            self.withdrawcash()\n",
    "        elif ans==6:\n",
    "            print (\"%s, your account is being deleted\"%self.username)\n",
    "            time.sleep(1)\n",
    "            print (\"Minions at work\")\n",
    "            time.sleep(1)\n",
    "            filestore.deleteaccount(self.username)\n",
    "            print (\"Your account has been successfuly deleted, goodbye\")\n",
    "        elif ans==7:\n",
    "            print (\"Thank you for using PostBank Services\")\n",
    "            time.sleep(1)\n",
    "            print (\"Goodbye %s\" %self.username)\n",
    "            exit()\n",
    "\n",
    "        else:\n",
    "            print (\"No function assigned to this key, please try again\")\n",
    "            self.userfunctions()\n",
    "\n",
    "    def checkbalance(self):\n",
    "        date=datetime.date.today()\n",
    "        date=date.strftime('%d-%B-%Y')\n",
    "        self.working()\n",
    "        print (\"Your account balance as at {} is {}\").format(date, self.balance)\n",
    "        self.transact_again()\n",
    "\n",
    "    def withdrawcash(self):\n",
    "        amount=float(raw_input(\"::\\n Please enter amount to withdraw\\n: \"))\n",
    "        self.balance-=amount\n",
    "        self.working()\n",
    "        print (\"Your new account balance is %.2f\" %self.balance)\n",
    "        print (\"::\\n\")\n",
    "        filestore.balupdate(self.username, -amount)\n",
    "        self.transact_again()\n",
    "\n",
    "    def depositcash(self):\n",
    "        amount=float(raw_input(\"::\\nPlease enter amount to be deposited\\n: \"))\n",
    "        self.balance+=amount\n",
    "        self.working()\n",
    "        print (\"Your new account balance is %.2f\" %self.balance)\n",
    "        print (\"::\\n\")\n",
    "        filestore.balupdate(self.username, amount)\n",
    "        self.transact_again()\n",
    "\n",
    "\n",
    "\n",
    "    def transact_again(self):\n",
    "        ans=raw_input(\"Do you want to do any other transaction? (y/n)\\n\")\n",
    "        if ans=='y':\n",
    "            self.userfunctions()\n",
    "        elif ans=='n':\n",
    "            print (\"Thank you for using PostBank we value you. Have a good day\")\n",
    "            time.sleep(1)\n",
    "            print (\"Goodbye {}\").format(self.username)\n",
    "            exit()\n",
    "        elif ans!='y' and ans!='n':\n",
    "            print (\"Unknown key pressed, please choose either 'N' or 'Y'\")\n",
    "            self.transact_again()\n",
    "\n",
    "    def working(self):\n",
    "        print(\"working\"),\n",
    "        time.sleep(1)\n",
    "        print (\"..\")\n",
    "        time.sleep(1)\n",
    "        print(\"..\")\n",
    "        time.sleep(1)\n",
    "        exit()\n",
    "AMBANK()"
   ]
  },
  {
   "cell_type": "code",
   "execution_count": 8,
   "metadata": {},
   "outputs": [
    {
     "name": "stdout",
     "output_type": "stream",
     "text": [
      "mateen\n"
     ]
    }
   ],
   "source": [
    "print('mateen')"
   ]
  },
  {
   "cell_type": "code",
   "execution_count": 9,
   "metadata": {},
   "outputs": [
    {
     "name": "stdout",
     "output_type": "stream",
     "text": [
      "'mateen'\n"
     ]
    }
   ],
   "source": [
    "print(\"'mateen'\")"
   ]
  },
  {
   "cell_type": "code",
   "execution_count": null,
   "metadata": {},
   "outputs": [],
   "source": []
  }
 ],
 "metadata": {
  "kernelspec": {
   "display_name": "Python 3",
   "language": "python",
   "name": "python3"
  },
  "language_info": {
   "codemirror_mode": {
    "name": "ipython",
    "version": 3
   },
   "file_extension": ".py",
   "mimetype": "text/x-python",
   "name": "python",
   "nbconvert_exporter": "python",
   "pygments_lexer": "ipython3",
   "version": "3.6.5"
  }
 },
 "nbformat": 4,
 "nbformat_minor": 2
}
